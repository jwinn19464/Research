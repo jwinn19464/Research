version https://git-lfs.github.com/spec/v1
oid sha256:7e13ff8613b01ced838c0a6a286538f8afbf1ad66cee1f962159046b782d21f3
size 2447849
