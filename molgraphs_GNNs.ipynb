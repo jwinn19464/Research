version https://git-lfs.github.com/spec/v1
oid sha256:16c17b7787cb4121406b60107bfa81ee2389214b0606b987bf5f552821d3a917
size 2831633
