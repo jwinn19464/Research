version https://git-lfs.github.com/spec/v1
oid sha256:535274b6145c407fb082ef65f70bd62e354ebf2d9fb306e19df9554e99870572
size 2446831
